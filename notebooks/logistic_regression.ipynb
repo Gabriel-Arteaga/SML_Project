{
 "cells": [
  {
   "cell_type": "code",
   "execution_count": 4,
   "metadata": {},
   "outputs": [],
   "source": [
    "import pandas as pd\n",
    "import numpy as np\n",
    "import sklearn\n",
    "import sklearn.linear_model as LM\n",
    "from sklearn import preprocessing\n",
    "from sklearn.model_selection import train_test_split\n",
    "from sklearn.model_selection import GridSearchCV\n",
    "from sklearn.metrics import accuracy_score\n",
    "from sklearn.model_selection import cross_validate\n",
    "from sklearn.preprocessing import StandardScaler\n",
    "import os\n",
    "import seaborn as sns\n",
    "import matplotlib.pyplot as plt\n",
    "from sklearn.feature_selection import RFE\n",
    "import sys\n",
    "sys.path.append('..')\n",
    "from utils.features import FeatureEngineering as FE\n",
    "from utils.model_eval import ModelEvaluation\n",
    "\n",
    "training_data = pd.read_csv('../data/train.csv')\n",
    "featureEngineer_data = pd.read_csv('../data/train.csv')\n",
    "\n",
    "modelClass = ModelEvaluation()\n",
    "FEClass = FE()\n",
    "FEClass.run_feature_engineering(featureEngineer_data, ratios=False, scaling ='standard', decade = False)\n",
    "features = featureEngineer_data[featureEngineer_data.columns.drop('Lead')]"
   ]
  },
  {
   "cell_type": "markdown",
   "metadata": {},
   "source": [
    "## The model with given features"
   ]
  },
  {
   "cell_type": "code",
   "execution_count": 6,
   "metadata": {},
   "outputs": [
    {
     "name": "stdout",
     "output_type": "stream",
     "text": [
      "----------- Cross-validation report -----------\n",
      "\n",
      "Model: LogisticRegression(max_iter=5000)\n",
      "\n",
      "Feature set: ['Number words female', 'Total words', 'Number of words lead', 'Difference in words lead and co-lead', 'Number of male actors', 'Year', 'Number of female actors', 'Number words male', 'Gross', 'Mean Age Male', 'Mean Age Female', 'Age Lead', 'Age Co-Lead']\n",
      "\n",
      "Number of folds: 5\n",
      "\n",
      "Performance:\n",
      "- Accuracy: 0.871 (avg), 0.846 (min), 0.909 (max)\n",
      "- Accuracy, 95.0 % confidence interval: 0.777-0.965\n",
      "- Accuracy, female: 0.618 (avg), 0.529 (min), 0.700 (max)\n",
      "- Accuracy, male: 0.953 (avg), 0.924 (min), 0.994 (max)\n",
      "- Training accuracy: 0.879 (avg), 0.871 (min), 0.884 (max)\n",
      "---------------------------------------------\n",
      "\n"
     ]
    }
   ],
   "source": [
    "# Model Given Features\n",
    "attributes = training_data.loc[:,:'Age Co-Lead']\n",
    "lead = training_data['Lead']\n",
    "modelGivenFeatures = LM.LogisticRegression(max_iter = 5000)\n",
    "# Cross Validation\n",
    "lead_binary = lead.replace([\"Male\", \"Female\"],[1,0])\n",
    "modelClass.cross_val(modelGivenFeatures, attributes, lead_binary, 5) # cross_val function all the same in the group"
   ]
  },
  {
   "cell_type": "markdown",
   "metadata": {},
   "source": [
    "## The model with given initial selection features"
   ]
  },
  {
   "cell_type": "code",
   "execution_count": 7,
   "metadata": {},
   "outputs": [
    {
     "name": "stdout",
     "output_type": "stream",
     "text": [
      "----------- Cross-validation report -----------\n",
      "\n",
      "Model: LogisticRegression(max_iter=5000)\n",
      "\n",
      "Feature set: ['Total words', 'Number of words lead', 'Difference in words lead and co-lead', 'Number of male actors', 'Number of female actors', 'Age Lead', 'Age Co-Lead']\n",
      "\n",
      "Number of folds: 5\n",
      "\n",
      "Performance:\n",
      "- Accuracy: 0.807 (avg), 0.797 (min), 0.822 (max)\n",
      "- Accuracy, 95.0 % confidence interval: 0.713-0.902\n",
      "- Accuracy, female: 0.437 (avg), 0.353 (min), 0.529 (max)\n",
      "- Accuracy, male: 0.927 (avg), 0.885 (min), 0.975 (max)\n",
      "- Training accuracy: 0.804 (avg), 0.800 (min), 0.809 (max)\n",
      "---------------------------------------------\n",
      "\n"
     ]
    }
   ],
   "source": [
    "# Model Initial Selection Features\n",
    "attributesIS = training_data.iloc[:,[1,2,3,4,6,11,12]]\n",
    "lead = training_data['Lead']\n",
    "modelInitialSelection = LM.LogisticRegression(max_iter = 5000)\n",
    "# Cross Validation \n",
    "lead_binary = lead.replace([\"Male\", \"Female\"],[1,0])\n",
    "modelClass.cross_val(modelInitialSelection, attributesIS, lead_binary, 5) # cross_val function all the same in the group  "
   ]
  },
  {
   "cell_type": "markdown",
   "metadata": {},
   "source": [
    "## Find the optimal features using RFE"
   ]
  },
  {
   "cell_type": "code",
   "execution_count": 8,
   "metadata": {},
   "outputs": [
    {
     "name": "stdout",
     "output_type": "stream",
     "text": [
      "Features Before:  48\n",
      "----------- Cross-validation report -----------\n",
      "\n",
      "Model: LogisticRegression(max_iter=5000)\n",
      "\n",
      "Feature set: ['Number words female', 'Total words', 'Number of words lead', 'Difference in words lead and co-lead', 'Number of male actors', 'Year', 'Number of female actors', 'Number words male', 'Gross', 'Mean Age Male', 'Mean Age Female', 'Age Lead', 'Age Co-Lead', 'Total actors', 'Female word share', 'Male word share', 'Lead word share', 'Female actor share', 'Male actor share', 'Decade', 'Difference Words Gender', 'Difference Actors', 'Difference Age Lead', 'Difference Mean Age', 'Yearly mean Number words female', 'Yearly mean Total words', 'Yearly mean Number of words lead', 'Yearly mean Difference in words lead and co-lead', 'Yearly mean Number of male actors', 'Yearly mean Number of female actors', 'Yearly mean Number words male', 'Yearly mean Gross', 'Yearly mean Mean Age Male', 'Yearly mean Mean Age Female', 'Yearly mean Age Lead', 'Yearly mean Age Co-Lead', 'Yearly mean diff Number words female', 'Yearly mean diff Total words', 'Yearly mean diff Number of words lead', 'Yearly mean diff Difference in words lead and co-lead', 'Yearly mean diff Number of male actors', 'Yearly mean diff Number of female actors', 'Yearly mean diff Number words male', 'Yearly mean diff Gross', 'Yearly mean diff Mean Age Male', 'Yearly mean diff Mean Age Female', 'Yearly mean diff Age Lead', 'Yearly mean diff Age Co-Lead']\n",
      "\n",
      "Number of folds: 5\n",
      "\n",
      "Performance:\n",
      "- Accuracy: 0.876 (avg), 0.846 (min), 0.899 (max)\n",
      "- Accuracy, 95.0 % confidence interval: 0.782-0.970\n",
      "- Accuracy, female: 0.662 (avg), 0.627 (min), 0.700 (max)\n",
      "- Accuracy, male: 0.945 (avg), 0.911 (min), 0.975 (max)\n",
      "- Training accuracy: 0.892 (avg), 0.886 (min), 0.895 (max)\n",
      "---------------------------------------------\n",
      "\n",
      "Features After :  14\n",
      "----------- Cross-validation report -----------\n",
      "\n",
      "Model: LogisticRegression(max_iter=5000)\n",
      "\n",
      "Feature set: ['Number of words lead', 'Difference in words lead and co-lead', 'Year', 'Number of female actors', 'Number words male', 'Female word share', 'Male word share', 'Lead word share', 'Female actor share', 'Male actor share', 'Decade', 'Difference Age Lead', 'Yearly mean diff Number of words lead', 'Yearly mean diff Difference in words lead and co-lead']\n",
      "\n",
      "Number of folds: 5\n",
      "\n",
      "Performance:\n",
      "- Accuracy: 0.882 (avg), 0.846 (min), 0.899 (max)\n",
      "- Accuracy, 95.0 % confidence interval: 0.787-0.976\n",
      "- Accuracy, female: 0.677 (avg), 0.627 (min), 0.720 (max)\n",
      "- Accuracy, male: 0.948 (avg), 0.911 (min), 0.962 (max)\n",
      "- Training accuracy: 0.886 (avg), 0.880 (min), 0.893 (max)\n",
      "---------------------------------------------\n",
      "\n"
     ]
    }
   ],
   "source": [
    "# Feature engineering\n",
    "modelBest = LM.LogisticRegression(max_iter = 5000)\n",
    "lead = training_data['Lead']\n",
    "lead_binary = lead.replace([\"Male\", \"Female\"],[1,0])\n",
    "\n",
    "print(\"Features Before: \", features.shape[1])\n",
    "modelClass.cross_val(modelBest, features, lead_binary, 5) # cross_val function all the same in the group  \n",
    "#RFE\n",
    "modelRFE = LM.LogisticRegression(max_iter = 5000)\n",
    "featuresToSelect = 14 # Found through trial and error\n",
    "rfe = RFE(estimator = modelRFE, n_features_to_select = featuresToSelect)\n",
    "rfe = rfe.fit(features, lead_binary)\n",
    "bestFeatures = []\n",
    "attributesIndex = range(0,len(list(features)))\n",
    "for f, i in zip(list(rfe.ranking_), attributesIndex):\n",
    "    if f == 1: # Add the highest ranked features to the newFeatures\n",
    "        bestFeatures.append(i) \n",
    "print(\"Features After : \", len(bestFeatures))\n",
    "newFeatures = features.iloc[:,bestFeatures]\n",
    "modelClass.cross_val(modelRFE, newFeatures, lead_binary, 5) # cross_val function all the same in the group"
   ]
  },
  {
   "cell_type": "markdown",
   "metadata": {},
   "source": [
    "## Hyper parameterize with Grid-Search"
   ]
  },
  {
   "cell_type": "code",
   "execution_count": 9,
   "metadata": {},
   "outputs": [
    {
     "name": "stdout",
     "output_type": "stream",
     "text": [
      "Fitting 5 folds for each of 344 candidates, totalling 1720 fits\n",
      "Best Parameters:  {'C': 0.23357214690901212, 'l1_ratio': 0.1111111111111111, 'penalty': 'elasticnet', 'solver': 'saga'}\n",
      "Best Score:  0.8845178372352285\n",
      "----------- Cross-validation report -----------\n",
      "\n",
      "Model: LogisticRegression(C=0.23357214690901212, l1_ratio=0.1111111111111111,\n",
      "                   max_iter=5000, penalty='elasticnet', solver='saga')\n",
      "\n",
      "Feature set: ['Number of words lead', 'Difference in words lead and co-lead', 'Year', 'Number of female actors', 'Number words male', 'Female word share', 'Male word share', 'Lead word share', 'Female actor share', 'Male actor share', 'Decade', 'Difference Age Lead', 'Yearly mean diff Number of words lead', 'Yearly mean diff Difference in words lead and co-lead']\n",
      "\n",
      "Number of folds: 5\n",
      "\n",
      "Performance:\n",
      "- Accuracy: 0.885 (avg), 0.865 (min), 0.899 (max)\n",
      "- Accuracy, 95.0 % confidence interval: 0.790-0.979\n",
      "- Accuracy, female: 0.666 (avg), 0.588 (min), 0.720 (max)\n",
      "- Accuracy, male: 0.955 (avg), 0.930 (min), 0.968 (max)\n",
      "- Training accuracy: 0.884 (avg), 0.880 (min), 0.888 (max)\n",
      "---------------------------------------------\n",
      "\n"
     ]
    }
   ],
   "source": [
    "# Grid Search\n",
    "modelGrid = LM.LogisticRegression(max_iter=5000)\n",
    "grid_parameters = [\n",
    "                    {'penalty'  : ['l1'], 'C': np.logspace(-4,4,20), 'solver' : ['liblinear', 'saga'] },\n",
    "                    {'penalty'  : ['l2'], 'C': np.logspace(-4,4,20), 'solver' : ['newton-cg', 'lbfgs', 'liblinear', 'sag', 'saga']},\n",
    "                    {'penalty'  :['none'], 'solver' : ['newton-cg', 'lbfgs', 'sag', 'saga']},\n",
    "                    {'penalty'  :['elasticnet'], 'l1_ratio' : np.linspace(0,1,10), 'C': np.logspace(-4,4,20), 'solver' : ['saga']}\n",
    "                   ]\n",
    "\n",
    "grid_search = GridSearchCV(modelGrid, param_grid = grid_parameters, n_jobs=-1,scoring = 'accuracy', verbose = 1)\n",
    "lead_binary = lead.replace([\"Male\", \"Female\"],[1,0])\n",
    "grid_search.fit(newFeatures, lead_binary) # Fit with new features\n",
    "print(\"Best Parameters: \", grid_search.best_params_)\n",
    "print(\"Best Score: \", grid_search.best_score_)\n",
    "modelBestGrid = LM.LogisticRegression(**grid_search.best_params_, max_iter = 5000)\n",
    "modelClass.cross_val(modelBestGrid, newFeatures, lead_binary, 5) # cross_val function all the same in the group"
   ]
  },
  {
   "cell_type": "code",
   "execution_count": null,
   "metadata": {},
   "outputs": [],
   "source": []
  }
 ],
 "metadata": {
  "kernelspec": {
   "display_name": "Python 3",
   "language": "python",
   "name": "python3"
  },
  "language_info": {
   "codemirror_mode": {
    "name": "ipython",
    "version": 3
   },
   "file_extension": ".py",
   "mimetype": "text/x-python",
   "name": "python",
   "nbconvert_exporter": "python",
   "pygments_lexer": "ipython3",
   "version": "3.10.1"
  }
 },
 "nbformat": 4,
 "nbformat_minor": 2
}
